{
 "cells": [
  {
   "cell_type": "code",
   "execution_count": 1,
   "metadata": {
    "collapsed": true,
    "pycharm": {
     "name": "#%%\n"
    }
   },
   "outputs": [],
   "source": [
    "import pandas as pd\n",
    "import numpy as np\n",
    "import sys"
   ]
  },
  {
   "cell_type": "code",
   "execution_count": 2,
   "outputs": [],
   "source": [
    "from src.data import read_dataset, make_dataset"
   ],
   "metadata": {
    "collapsed": false,
    "pycharm": {
     "name": "#%%\n"
    }
   }
  },
  {
   "cell_type": "markdown",
   "source": [
    "# Importing the Data"
   ],
   "metadata": {
    "collapsed": false,
    "pycharm": {
     "name": "#%% md\n"
    }
   }
  },
  {
   "cell_type": "code",
   "execution_count": 3,
   "outputs": [
    {
     "data": {
      "text/plain": "       caseid  pregordr  howpreg_n  howpreg_p  moscurrp  nowprgdk  pregend1  \\\n0           1         1        NaN        NaN       NaN       NaN       6.0   \n1           1         2        NaN        NaN       NaN       NaN       6.0   \n2           2         1        NaN        NaN       NaN       NaN       5.0   \n3           2         2        NaN        NaN       NaN       NaN       6.0   \n4           2         3        NaN        NaN       NaN       NaN       6.0   \n...       ...       ...        ...        ...       ...       ...       ...   \n13588   12571         1        NaN        NaN       NaN       NaN       6.0   \n13589   12571         2        NaN        NaN       NaN       NaN       3.0   \n13590   12571         3        NaN        NaN       NaN       NaN       3.0   \n13591   12571         4        NaN        NaN       NaN       NaN       6.0   \n13592   12571         5        NaN        NaN       NaN       NaN       6.0   \n\n       pregend2  nbrnaliv  multbrth  ...  poverty_i  laborfor_i  religion_i  \\\n0           NaN       1.0       NaN  ...          0           0           0   \n1           NaN       1.0       NaN  ...          0           0           0   \n2           NaN       3.0       5.0  ...          0           0           0   \n3           NaN       1.0       NaN  ...          0           0           0   \n4           NaN       1.0       NaN  ...          0           0           0   \n...         ...       ...       ...  ...        ...         ...         ...   \n13588       NaN       1.0       NaN  ...          0           0           0   \n13589       NaN       NaN       NaN  ...          0           0           0   \n13590       NaN       NaN       NaN  ...          0           0           0   \n13591       NaN       1.0       NaN  ...          0           0           0   \n13592       NaN       1.0       NaN  ...          0           0           0   \n\n       metro_i      basewgt  adj_mod_basewgt      finalwgt  secu_p  sest  \\\n0            0  3410.389399      3869.349602   6448.271112       2     9   \n1            0  3410.389399      3869.349602   6448.271112       2     9   \n2            0  7226.301740      8567.549110  12999.542264       2    12   \n3            0  7226.301740      8567.549110  12999.542264       2    12   \n4            0  7226.301740      8567.549110  12999.542264       2    12   \n...        ...          ...              ...           ...     ...   ...   \n13588        0  4670.540953      5795.692880   6269.200989       1    78   \n13589        0  4670.540953      5795.692880   6269.200989       1    78   \n13590        0  4670.540953      5795.692880   6269.200989       1    78   \n13591        0  4670.540953      5795.692880   6269.200989       1    78   \n13592        0  4670.540953      5795.692880   6269.200989       1    78   \n\n       cmintvw  \n0         1231  \n1         1231  \n2         1231  \n3         1231  \n4         1231  \n...        ...  \n13588     1227  \n13589     1227  \n13590     1227  \n13591     1227  \n13592     1227  \n\n[13593 rows x 243 columns]",
      "text/html": "<div>\n<style scoped>\n    .dataframe tbody tr th:only-of-type {\n        vertical-align: middle;\n    }\n\n    .dataframe tbody tr th {\n        vertical-align: top;\n    }\n\n    .dataframe thead th {\n        text-align: right;\n    }\n</style>\n<table border=\"1\" class=\"dataframe\">\n  <thead>\n    <tr style=\"text-align: right;\">\n      <th></th>\n      <th>caseid</th>\n      <th>pregordr</th>\n      <th>howpreg_n</th>\n      <th>howpreg_p</th>\n      <th>moscurrp</th>\n      <th>nowprgdk</th>\n      <th>pregend1</th>\n      <th>pregend2</th>\n      <th>nbrnaliv</th>\n      <th>multbrth</th>\n      <th>...</th>\n      <th>poverty_i</th>\n      <th>laborfor_i</th>\n      <th>religion_i</th>\n      <th>metro_i</th>\n      <th>basewgt</th>\n      <th>adj_mod_basewgt</th>\n      <th>finalwgt</th>\n      <th>secu_p</th>\n      <th>sest</th>\n      <th>cmintvw</th>\n    </tr>\n  </thead>\n  <tbody>\n    <tr>\n      <th>0</th>\n      <td>1</td>\n      <td>1</td>\n      <td>NaN</td>\n      <td>NaN</td>\n      <td>NaN</td>\n      <td>NaN</td>\n      <td>6.0</td>\n      <td>NaN</td>\n      <td>1.0</td>\n      <td>NaN</td>\n      <td>...</td>\n      <td>0</td>\n      <td>0</td>\n      <td>0</td>\n      <td>0</td>\n      <td>3410.389399</td>\n      <td>3869.349602</td>\n      <td>6448.271112</td>\n      <td>2</td>\n      <td>9</td>\n      <td>1231</td>\n    </tr>\n    <tr>\n      <th>1</th>\n      <td>1</td>\n      <td>2</td>\n      <td>NaN</td>\n      <td>NaN</td>\n      <td>NaN</td>\n      <td>NaN</td>\n      <td>6.0</td>\n      <td>NaN</td>\n      <td>1.0</td>\n      <td>NaN</td>\n      <td>...</td>\n      <td>0</td>\n      <td>0</td>\n      <td>0</td>\n      <td>0</td>\n      <td>3410.389399</td>\n      <td>3869.349602</td>\n      <td>6448.271112</td>\n      <td>2</td>\n      <td>9</td>\n      <td>1231</td>\n    </tr>\n    <tr>\n      <th>2</th>\n      <td>2</td>\n      <td>1</td>\n      <td>NaN</td>\n      <td>NaN</td>\n      <td>NaN</td>\n      <td>NaN</td>\n      <td>5.0</td>\n      <td>NaN</td>\n      <td>3.0</td>\n      <td>5.0</td>\n      <td>...</td>\n      <td>0</td>\n      <td>0</td>\n      <td>0</td>\n      <td>0</td>\n      <td>7226.301740</td>\n      <td>8567.549110</td>\n      <td>12999.542264</td>\n      <td>2</td>\n      <td>12</td>\n      <td>1231</td>\n    </tr>\n    <tr>\n      <th>3</th>\n      <td>2</td>\n      <td>2</td>\n      <td>NaN</td>\n      <td>NaN</td>\n      <td>NaN</td>\n      <td>NaN</td>\n      <td>6.0</td>\n      <td>NaN</td>\n      <td>1.0</td>\n      <td>NaN</td>\n      <td>...</td>\n      <td>0</td>\n      <td>0</td>\n      <td>0</td>\n      <td>0</td>\n      <td>7226.301740</td>\n      <td>8567.549110</td>\n      <td>12999.542264</td>\n      <td>2</td>\n      <td>12</td>\n      <td>1231</td>\n    </tr>\n    <tr>\n      <th>4</th>\n      <td>2</td>\n      <td>3</td>\n      <td>NaN</td>\n      <td>NaN</td>\n      <td>NaN</td>\n      <td>NaN</td>\n      <td>6.0</td>\n      <td>NaN</td>\n      <td>1.0</td>\n      <td>NaN</td>\n      <td>...</td>\n      <td>0</td>\n      <td>0</td>\n      <td>0</td>\n      <td>0</td>\n      <td>7226.301740</td>\n      <td>8567.549110</td>\n      <td>12999.542264</td>\n      <td>2</td>\n      <td>12</td>\n      <td>1231</td>\n    </tr>\n    <tr>\n      <th>...</th>\n      <td>...</td>\n      <td>...</td>\n      <td>...</td>\n      <td>...</td>\n      <td>...</td>\n      <td>...</td>\n      <td>...</td>\n      <td>...</td>\n      <td>...</td>\n      <td>...</td>\n      <td>...</td>\n      <td>...</td>\n      <td>...</td>\n      <td>...</td>\n      <td>...</td>\n      <td>...</td>\n      <td>...</td>\n      <td>...</td>\n      <td>...</td>\n      <td>...</td>\n      <td>...</td>\n    </tr>\n    <tr>\n      <th>13588</th>\n      <td>12571</td>\n      <td>1</td>\n      <td>NaN</td>\n      <td>NaN</td>\n      <td>NaN</td>\n      <td>NaN</td>\n      <td>6.0</td>\n      <td>NaN</td>\n      <td>1.0</td>\n      <td>NaN</td>\n      <td>...</td>\n      <td>0</td>\n      <td>0</td>\n      <td>0</td>\n      <td>0</td>\n      <td>4670.540953</td>\n      <td>5795.692880</td>\n      <td>6269.200989</td>\n      <td>1</td>\n      <td>78</td>\n      <td>1227</td>\n    </tr>\n    <tr>\n      <th>13589</th>\n      <td>12571</td>\n      <td>2</td>\n      <td>NaN</td>\n      <td>NaN</td>\n      <td>NaN</td>\n      <td>NaN</td>\n      <td>3.0</td>\n      <td>NaN</td>\n      <td>NaN</td>\n      <td>NaN</td>\n      <td>...</td>\n      <td>0</td>\n      <td>0</td>\n      <td>0</td>\n      <td>0</td>\n      <td>4670.540953</td>\n      <td>5795.692880</td>\n      <td>6269.200989</td>\n      <td>1</td>\n      <td>78</td>\n      <td>1227</td>\n    </tr>\n    <tr>\n      <th>13590</th>\n      <td>12571</td>\n      <td>3</td>\n      <td>NaN</td>\n      <td>NaN</td>\n      <td>NaN</td>\n      <td>NaN</td>\n      <td>3.0</td>\n      <td>NaN</td>\n      <td>NaN</td>\n      <td>NaN</td>\n      <td>...</td>\n      <td>0</td>\n      <td>0</td>\n      <td>0</td>\n      <td>0</td>\n      <td>4670.540953</td>\n      <td>5795.692880</td>\n      <td>6269.200989</td>\n      <td>1</td>\n      <td>78</td>\n      <td>1227</td>\n    </tr>\n    <tr>\n      <th>13591</th>\n      <td>12571</td>\n      <td>4</td>\n      <td>NaN</td>\n      <td>NaN</td>\n      <td>NaN</td>\n      <td>NaN</td>\n      <td>6.0</td>\n      <td>NaN</td>\n      <td>1.0</td>\n      <td>NaN</td>\n      <td>...</td>\n      <td>0</td>\n      <td>0</td>\n      <td>0</td>\n      <td>0</td>\n      <td>4670.540953</td>\n      <td>5795.692880</td>\n      <td>6269.200989</td>\n      <td>1</td>\n      <td>78</td>\n      <td>1227</td>\n    </tr>\n    <tr>\n      <th>13592</th>\n      <td>12571</td>\n      <td>5</td>\n      <td>NaN</td>\n      <td>NaN</td>\n      <td>NaN</td>\n      <td>NaN</td>\n      <td>6.0</td>\n      <td>NaN</td>\n      <td>1.0</td>\n      <td>NaN</td>\n      <td>...</td>\n      <td>0</td>\n      <td>0</td>\n      <td>0</td>\n      <td>0</td>\n      <td>4670.540953</td>\n      <td>5795.692880</td>\n      <td>6269.200989</td>\n      <td>1</td>\n      <td>78</td>\n      <td>1227</td>\n    </tr>\n  </tbody>\n</table>\n<p>13593 rows × 243 columns</p>\n</div>"
     },
     "execution_count": 3,
     "metadata": {},
     "output_type": "execute_result"
    }
   ],
   "source": [
    "data = read_dataset.read_fem_preg('../data/external/2002FemPreg.dct',\n",
    "                                  '../data/external/2002FemPreg.dat')\n",
    "data"
   ],
   "metadata": {
    "collapsed": false,
    "pycharm": {
     "name": "#%%\n"
    }
   }
  },
  {
   "cell_type": "code",
   "execution_count": 6,
   "outputs": [
    {
     "data": {
      "text/plain": "11093    4\n11094    4\n11095    4\n11096    4\n11097    4\n11098    4\n11099    1\nName: outcome, dtype: int64"
     },
     "execution_count": 6,
     "metadata": {},
     "output_type": "execute_result"
    }
   ],
   "source": [
    "data.outcome[read_dataset.make_preg_map(data)[10229]]"
   ],
   "metadata": {
    "collapsed": false,
    "pycharm": {
     "name": "#%%\n"
    }
   }
  }
 ],
 "metadata": {
  "kernelspec": {
   "display_name": "Python 3",
   "language": "python",
   "name": "python3"
  },
  "language_info": {
   "codemirror_mode": {
    "name": "ipython",
    "version": 2
   },
   "file_extension": ".py",
   "mimetype": "text/x-python",
   "name": "python",
   "nbconvert_exporter": "python",
   "pygments_lexer": "ipython2",
   "version": "2.7.6"
  }
 },
 "nbformat": 4,
 "nbformat_minor": 0
}